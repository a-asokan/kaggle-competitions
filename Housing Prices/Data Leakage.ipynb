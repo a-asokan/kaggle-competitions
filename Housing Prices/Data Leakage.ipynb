{
 "cells": [
  {
   "cell_type": "markdown",
   "id": "b03f78b3",
   "metadata": {},
   "source": [
    "# Kaggle: Intermediate Machine Learning\n",
    "\n",
    "This notebook is an exercise in the [Intermediate Machine Learning](https://www.kaggle.com/learn/intermediate-machine-learning) course. The tutorial can be referenced [here](https://www.kaggle.com/code/alexisbcook/introduction/tutorial). The aim of this notebook is to provide a preliminary analysis into a Random Forest Regressor for the [Housing Prices Competition on Kaggle](https://www.kaggle.com/competitions/home-data-for-ml-course/overview)."
   ]
  },
  {
   "cell_type": "markdown",
   "id": "1855c616",
   "metadata": {},
   "source": [
    "## The Data Science of Shoelaces\n",
    "\n",
    "Nike has hired you as a data science consultant to help them save money on shoe materials. Your first assignment is to review a model one of their employees built to predict how many shoelaces they'll need each month. The features going into the machine learning model include:\n",
    "\n",
    "1. The current month (January, February, etc) <br>\n",
    "2. Advertising expenditures in the previous month <br>\n",
    "3. Various macroeconomic features (like the unemployment rate) as of the beginning of the current month <br>\n",
    "4. The amount of leather they ended up using in the current month <br>\n",
    "\n",
    "The results show the model is almost perfectly accurate if you include the feature about how much leather they used. But it is only moderately accurate if you leave that feature out. You realize this is because the amount of leather they use is a perfect indicator of how many shoes they produce, which in turn tells you how many shoelaces they need.\n",
    "\n",
    "Do you think the leather used feature constitutes a source of data leakage? If your answer is \"it depends,\" what does it depend on?\n",
    "\n",
    "\n",
    "\n",
    "I believe it depends on how the data had been collected as this could determine whether leakage occurred or not. If the amount of leather used is decided at the beginning of the month and does not change, then it may not be a source of leakage. however, if it is decided at the beginning of the month, then undergoes changes or if it is decided during the month, it may be a source of leakage. this is because we would not have access to this feature while making the prediction."
   ]
  },
  {
   "cell_type": "markdown",
   "id": "1f6b7178",
   "metadata": {},
   "source": [
    "## Return of the Shoelaces\n",
    "\n",
    "You have a new idea. You could use the amount of leather Nike ordered (rather than the amount they actually used) leading up to a given month as a predictor in your shoelace model.\n",
    "\n",
    "Does this change your answer about whether there is a leakage problem? If you answer \"it depends,\" what does it depend on?\n",
    "\n",
    "It depends on whether they order shoelaces or leather first. If the shoelaces were ordered first, we would not know how much leather has been ordered when we predict shoelace needs. If the leather is ordered first, then this number would be available when placing the shoelace order."
   ]
  },
  {
   "cell_type": "markdown",
   "id": "2b289cdd",
   "metadata": {},
   "source": [
    "## Getting Rich With Cryptocurrencies?\n",
    "\n",
    "You saved Nike so much money that they gave you a bonus. Congratulations.\n",
    "\n",
    "Your friend, who is also a data scientist, says he has built a model that will let you turn your bonus into millions of dollars. Specifically, his model predicts the price of a new cryptocurrency (like Bitcoin, but a newer one) one day ahead of the moment of prediction. His plan is to purchase the cryptocurrency whenever the model says the price of the currency (in dollars) is about to go up.\n",
    "\n",
    "The most important features in his model are: <br>\n",
    "\n",
    "1. Current price of the currency <br>\n",
    "2. Amount of the currency sold in the last 24 hours <br>\n",
    "3. Change in the currency price in the last 24 hours <br>\n",
    "4. Change in the currency price in the last 1 hour <br>\n",
    "5. Number of new tweets in the last 24 hours that mention the currency <br>\n",
    "\n",
    "The value of the cryptocurrency in dollars has fluctuated up and down by over $100 in the last year, and yet his model's average error is less than $1. He says this is proof his model is accurate, and you should invest with him, buying the currency whenever the model says it is about to go up.\n",
    "\n",
    "Is he right? If there is a problem with his model, what is it?\n",
    "\n",
    "\n",
    "There is no source of leakage here. These features should be available at the moment you want to make a predition, and it is unlikely to be changed in the training data after the prediction target is determined. However, the way the accuracy is described may be misleading. If the price moves gradually, then the price today would accurately predict the price the next day but would not provide any information on wheether it is a good time to invest in the asset. Thus, a better predictor would be to provide the change in price over the next day."
   ]
  },
  {
   "cell_type": "markdown",
   "id": "7e09a704",
   "metadata": {},
   "source": [
    "## Preventing Infections\n",
    "\n",
    "An agency that provides healthcare wants to predict which patients from a rare surgery are at risk of infection, so it can alert the nurses to be especially careful when following up with those patients.\n",
    "\n",
    "You want to build a model. Each row in the modeling dataset will be a single patient who received the surgery, and the prediction target will be whether they got an infection.\n",
    "\n",
    "Some surgeons may do the procedure in a manner that raises or lowers the risk of infection. But how can you best incorporate the surgeon information into the model?\n",
    "\n",
    "You have a clever idea.\n",
    "\n",
    "Take all surgeries by each surgeon and calculate the infection rate among those surgeons.\n",
    "For each patient in the data, find out who the surgeon was and plug in that surgeon's average infection rate as a feature.\n",
    "Does this pose any target leakage issues? Does it pose any train-test contamination issues?\n",
    "\n",
    "\n",
    "This could pose a risk of both target leakage and train-test contamination.\n",
    "\n",
    "You have target leakage if a given patient's outcome contributes to the infection rate for his surgeon, which is then plugged back into the prediction model for whether that patient becomes infected. You can avoid target leakage if you calculate the surgeon's infection rate by using only the surgeries before the patient we are predicting for. Calculating this for each surgery in your training data may be a little tricky.\n",
    "\n",
    "You also have a train-test contamination problem if you calculate this using all surgeries a surgeon performed, including those from the test-set. The result would be that your model could look very accurate on the test set, even if it wouldn't generalize well to new patients after the model is deployed. This would happen because the surgeon-risk feature accounts for data in the test set. Test sets exist to estimate how the model will do when seeing new data. So this contamination defeats the purpose of the test set."
   ]
  },
  {
   "cell_type": "markdown",
   "id": "f217051f",
   "metadata": {},
   "source": [
    "## Housing Prices\n",
    "\n",
    "You will build a model to predict housing prices. The model will be deployed on an ongoing basis, to predict the price of a new house when a description is added to a website. Here are four features that could be used as predictors.\n",
    "\n",
    "Size of the house (in square meters)\n",
    "Average sales price of homes in the same neighborhood\n",
    "Latitude and longitude of the house\n",
    "Whether the house has a basement\n",
    "You have historic data to train and validate the model.\n",
    "\n",
    "Which of the features is most likely to be a source of leakage?\n",
    "\n",
    "\n",
    "\n",
    "Feature 2 is the source of target leakage. Here is an analysis for each feature:\n",
    "\n",
    "1: The size of a house is unlikely to be changed after it is sold (though technically it's possible). But typically this will be available when we need to make a prediction, and the data won't be modified after the home is sold. So it is pretty safe. <br>\n",
    "\n",
    "2: We don't know the rules for when this is updated. If the field is updated in the raw data after a home was sold, and the home's sale is used to calculate the average, this constitutes a case of target leakage. At an extreme, if only one home is sold in the neighborhood, and it is the home we are trying to predict, then the average will be exactly equal to the value we are trying to predict. In general, for neighborhoods with few sales, the model will perform very well on the training data. But when you apply the model, the home you are predicting won't have been sold yet, so this feature won't work the same as it did in the training data. <br>\n",
    "\n",
    "3: These don't change, and will be available at the time we want to make a prediction. So there's no risk of target leakage here. <br>\n",
    "\n",
    "4: This also doesn't change, and it is available at the time we want to make a prediction. So there's no risk of target leakage here."
   ]
  }
 ],
 "metadata": {
  "kernelspec": {
   "display_name": "Python 3 (ipykernel)",
   "language": "python",
   "name": "python3"
  },
  "language_info": {
   "codemirror_mode": {
    "name": "ipython",
    "version": 3
   },
   "file_extension": ".py",
   "mimetype": "text/x-python",
   "name": "python",
   "nbconvert_exporter": "python",
   "pygments_lexer": "ipython3",
   "version": "3.9.12"
  }
 },
 "nbformat": 4,
 "nbformat_minor": 5
}
