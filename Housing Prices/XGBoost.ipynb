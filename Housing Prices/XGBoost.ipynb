{
 "cells": [
  {
   "cell_type": "markdown",
   "id": "b03f78b3",
   "metadata": {},
   "source": [
    "# Kaggle: Intermediate Machine Learning\n",
    "\n",
    "This notebook is an exercise in the [Intermediate Machine Learning](https://www.kaggle.com/learn/intermediate-machine-learning) course. The tutorial can be referenced [here](https://www.kaggle.com/code/alexisbcook/introduction/tutorial). The aim of this notebook is to provide a preliminary analysis into a Random Forest Regressor for the [Housing Prices Competition on Kaggle](https://www.kaggle.com/competitions/home-data-for-ml-course/overview)."
   ]
  },
  {
   "cell_type": "markdown",
   "id": "1855c616",
   "metadata": {},
   "source": [
    "## Importing the Necessary Packages and Loading the Datasets"
   ]
  },
  {
   "cell_type": "code",
   "execution_count": 13,
   "id": "11b3ac2c",
   "metadata": {},
   "outputs": [],
   "source": [
    "import pandas as pd\n",
    "from sklearn.model_selection import train_test_split\n",
    "from sklearn.metrics import mean_absolute_error\n",
    "from xgboost import XGBRegressor"
   ]
  },
  {
   "cell_type": "code",
   "execution_count": 5,
   "id": "14492613",
   "metadata": {},
   "outputs": [],
   "source": [
    "# Reading the data\n",
    "X = pd.read_csv('home-data-for-ml-course/train.csv', index_col='Id') \n",
    "X_test_full = pd.read_csv('home-data-for-ml-course/test.csv', index_col='Id')"
   ]
  },
  {
   "cell_type": "markdown",
   "id": "f21567ff",
   "metadata": {},
   "source": [
    "## Preparing the Data"
   ]
  },
  {
   "cell_type": "code",
   "execution_count": 6,
   "id": "c532dac5",
   "metadata": {},
   "outputs": [],
   "source": [
    "# Remove rows with missing target, separate target from predictors\n",
    "X.dropna(axis=0, subset=['SalePrice'], inplace=True)\n",
    "y = X.SalePrice              \n",
    "X.drop(['SalePrice'], axis=1, inplace=True)"
   ]
  },
  {
   "cell_type": "markdown",
   "id": "942ab3da",
   "metadata": {},
   "source": [
    "## Validation Set Split\n",
    "\n",
    "A validation set is then obtained from the training set using the industry standard 80/20 split. "
   ]
  },
  {
   "cell_type": "code",
   "execution_count": 7,
   "id": "64aeced3",
   "metadata": {},
   "outputs": [],
   "source": [
    "# Break off validation set from training data\n",
    "X_train_full, X_valid_full, y_train, y_valid = train_test_split(X, y, train_size = 0.8, test_size = 0.2, random_state = 42)"
   ]
  },
  {
   "cell_type": "markdown",
   "id": "03d94020",
   "metadata": {},
   "source": [
    "## Cardinality\n",
    "\n",
    "It is the number of unique values in a column. The below code selects the categorical columns with relatively low cardinality."
   ]
  },
  {
   "cell_type": "code",
   "execution_count": 8,
   "id": "c909fd33",
   "metadata": {},
   "outputs": [],
   "source": [
    "low_cardinality_cols = [cname for cname in X_train_full.columns if X_train_full[cname].nunique() < 10 and \n",
    "                        X_train_full[cname].dtype == \"object\"]\n",
    "\n",
    "# Select numeric columns\n",
    "numeric_cols = [cname for cname in X_train_full.columns if X_train_full[cname].dtype in ['int64', 'float64']]\n",
    "\n",
    "# Keep selected columns only\n",
    "my_cols = low_cardinality_cols + numeric_cols\n",
    "X_train = X_train_full[my_cols].copy()\n",
    "X_valid = X_valid_full[my_cols].copy()\n",
    "X_test = X_test_full[my_cols].copy()\n",
    "\n",
    "# One-hot encode the data (to shorten the code, we use pandas)\n",
    "X_train = pd.get_dummies(X_train)\n",
    "X_valid = pd.get_dummies(X_valid)\n",
    "X_test = pd.get_dummies(X_test)\n",
    "X_train, X_valid = X_train.align(X_valid, join='left', axis=1)"
   ]
  },
  {
   "cell_type": "markdown",
   "id": "93c424f2",
   "metadata": {},
   "source": [
    "## Building the Model\n",
    "\n",
    "Building and training the model with gradient boosting."
   ]
  },
  {
   "cell_type": "code",
   "execution_count": 7,
   "id": "1ad29350",
   "metadata": {},
   "outputs": [],
   "source": [
    "# Define the model\n",
    "my_model_1 = XGBRegressor(random_state=0)\n",
    "\n",
    "# Fit the model\n",
    "my_model_1.fit(X_train, y_train)"
   ]
  },
  {
   "cell_type": "markdown",
   "id": "ca10c065",
   "metadata": {},
   "source": [
    "## Obtaining Predictions"
   ]
  },
  {
   "cell_type": "code",
   "execution_count": 7,
   "id": "fef93ce0",
   "metadata": {},
   "outputs": [],
   "source": [
    "predictions_1 = my_model_1.predict(X_valid)predictions_1 = my_model_1.predict(X_valid)"
   ]
  },
  {
   "cell_type": "code",
   "execution_count": 7,
   "id": "bce98770",
   "metadata": {},
   "outputs": [],
   "source": [
    "mae_1 = mean_absolute_error(predictions_1, y_valid)"
   ]
  },
  {
   "cell_type": "markdown",
   "id": "7c40ee56",
   "metadata": {},
   "source": [
    "## Improving the Model\n",
    "\n",
    "Playing with the parameters to obtain a better performance: "
   ]
  },
  {
   "cell_type": "code",
   "execution_count": 7,
   "id": "4a18231e",
   "metadata": {},
   "outputs": [],
   "source": [
    "# Define the model\n",
    "my_model_2 = XGBRegressor(n_estimators=1)\n",
    "\n",
    "# Fit the model\n",
    "my_model_2.fit(X_train, y_train)\n",
    "\n",
    "# Get predictions\n",
    "predictions_2 = my_model_2.predict(X_valid)\n",
    "\n",
    "# Calculate MAE\n",
    "mae_2 = mean_absolute_error(predictions_2, y_valid)"
   ]
  },
  {
   "cell_type": "code",
   "execution_count": 7,
   "id": "f321dd0f",
   "metadata": {},
   "outputs": [],
   "source": [
    "# Defining the model\n",
    "my_model_3 = XGBRegressor(n_estimators = 1000, learning_rate = 0.05)\n",
    "\n",
    "# Fit the model\n",
    "my_model_3.fit(X_train, y_train)\n",
    "\n",
    "# Get predictions\n",
    "predictions_3 = my_model_3.predict(X_valid)\n",
    "\n",
    "# Calculate MAE\n",
    "mae_3 = mean_absolute_error(predictions_3, y_valid)_absolute_error(predictions_3, y_valid)"
   ]
  }
 ],
 "metadata": {
  "kernelspec": {
   "display_name": "Python 3 (ipykernel)",
   "language": "python",
   "name": "python3"
  },
  "language_info": {
   "codemirror_mode": {
    "name": "ipython",
    "version": 3
   },
   "file_extension": ".py",
   "mimetype": "text/x-python",
   "name": "python",
   "nbconvert_exporter": "python",
   "pygments_lexer": "ipython3",
   "version": "3.9.12"
  }
 },
 "nbformat": 4,
 "nbformat_minor": 5
}
