{
 "cells": [
  {
   "cell_type": "markdown",
   "id": "975422a4",
   "metadata": {},
   "source": [
    "# Kaggle: Intermediate Machine Learning\n",
    "\n",
    "This notebook is an exercise in the [Intermediate Machine Learning](https://www.kaggle.com/learn/intermediate-machine-learning) course. The tutorial can be referenced [here](https://www.kaggle.com/code/alexisbcook/introduction/tutorial). The aim of this notebook is to provide a preliminary analysis into a Random Forest Regressor for the [Housing Prices Competition on Kaggle](https://www.kaggle.com/competitions/home-data-for-ml-course/overview).\n",
    "\n",
    "## Set Up\n",
    "\n",
    "The below cell sets up the environment and adds the necessary datasets into the working directory. "
   ]
  },
  {
   "cell_type": "code",
   "execution_count": 1,
   "id": "e02e1970",
   "metadata": {},
   "outputs": [],
   "source": [
    "import pandas as pd\n",
    "from sklearn.model_selection import train_test_split\n",
    "from sklearn.ensemble import RandomForestRegressor\n",
    "from sklearn.metrics import mean_absolute_error\n",
    "from sklearn.impute import SimpleImputer"
   ]
  },
  {
   "cell_type": "code",
   "execution_count": 2,
   "id": "313b1367",
   "metadata": {},
   "outputs": [],
   "source": [
    "# Read the data\n",
    "xTrainOg = pd.read_csv('home-data-for-ml-course/train.csv', index_col = 'Id')\n",
    "xTestOg = pd.read_csv('home-data-for-ml-course/test.csv', index_col = 'Id')"
   ]
  },
  {
   "cell_type": "markdown",
   "id": "1a9b0850",
   "metadata": {},
   "source": [
    "## Data Preparation"
   ]
  },
  {
   "cell_type": "code",
   "execution_count": 3,
   "id": "adade193",
   "metadata": {},
   "outputs": [],
   "source": [
    "# Remove rows with missing target, separate target from predictors\n",
    "xTrainOg.dropna(axis = 0, subset = ['SalePrice'], inplace = True)\n",
    "y = xTrainOg.SalePrice\n",
    "xTrainOg.drop(['SalePrice'], axis = 1, inplace = True)\n",
    "\n",
    "# To keep things simple, we'll use only numerical predictors\n",
    "X = xTrainOg.select_dtypes(exclude=['object'])\n",
    "X_test = xTestOg.select_dtypes(exclude=['object'])"
   ]
  },
  {
   "cell_type": "markdown",
   "id": "488e0dee",
   "metadata": {},
   "source": [
    "## Creating Validation Set\n",
    "\n",
    "A validation set is then obtained from the training set using the industry standard 80/20 split. "
   ]
  },
  {
   "cell_type": "code",
   "execution_count": 4,
   "id": "e1c92e1a",
   "metadata": {},
   "outputs": [],
   "source": [
    "X_train, X_valid, y_train, y_valid = train_test_split(X, y, train_size = 0.8, test_size = 0.2, random_state = 42)"
   ]
  },
  {
   "cell_type": "markdown",
   "id": "47d6ef81",
   "metadata": {},
   "source": [
    "Examining the obtained:"
   ]
  },
  {
   "cell_type": "code",
   "execution_count": 5,
   "id": "72eee3b9",
   "metadata": {},
   "outputs": [
    {
     "data": {
      "text/html": [
       "<div>\n",
       "<style scoped>\n",
       "    .dataframe tbody tr th:only-of-type {\n",
       "        vertical-align: middle;\n",
       "    }\n",
       "\n",
       "    .dataframe tbody tr th {\n",
       "        vertical-align: top;\n",
       "    }\n",
       "\n",
       "    .dataframe thead th {\n",
       "        text-align: right;\n",
       "    }\n",
       "</style>\n",
       "<table border=\"1\" class=\"dataframe\">\n",
       "  <thead>\n",
       "    <tr style=\"text-align: right;\">\n",
       "      <th></th>\n",
       "      <th>MSSubClass</th>\n",
       "      <th>LotFrontage</th>\n",
       "      <th>LotArea</th>\n",
       "      <th>OverallQual</th>\n",
       "      <th>OverallCond</th>\n",
       "      <th>YearBuilt</th>\n",
       "      <th>YearRemodAdd</th>\n",
       "      <th>MasVnrArea</th>\n",
       "      <th>BsmtFinSF1</th>\n",
       "      <th>BsmtFinSF2</th>\n",
       "      <th>...</th>\n",
       "      <th>GarageArea</th>\n",
       "      <th>WoodDeckSF</th>\n",
       "      <th>OpenPorchSF</th>\n",
       "      <th>EnclosedPorch</th>\n",
       "      <th>3SsnPorch</th>\n",
       "      <th>ScreenPorch</th>\n",
       "      <th>PoolArea</th>\n",
       "      <th>MiscVal</th>\n",
       "      <th>MoSold</th>\n",
       "      <th>YrSold</th>\n",
       "    </tr>\n",
       "    <tr>\n",
       "      <th>Id</th>\n",
       "      <th></th>\n",
       "      <th></th>\n",
       "      <th></th>\n",
       "      <th></th>\n",
       "      <th></th>\n",
       "      <th></th>\n",
       "      <th></th>\n",
       "      <th></th>\n",
       "      <th></th>\n",
       "      <th></th>\n",
       "      <th></th>\n",
       "      <th></th>\n",
       "      <th></th>\n",
       "      <th></th>\n",
       "      <th></th>\n",
       "      <th></th>\n",
       "      <th></th>\n",
       "      <th></th>\n",
       "      <th></th>\n",
       "      <th></th>\n",
       "      <th></th>\n",
       "    </tr>\n",
       "  </thead>\n",
       "  <tbody>\n",
       "    <tr>\n",
       "      <th>255</th>\n",
       "      <td>20</td>\n",
       "      <td>70.0</td>\n",
       "      <td>8400</td>\n",
       "      <td>5</td>\n",
       "      <td>6</td>\n",
       "      <td>1957</td>\n",
       "      <td>1957</td>\n",
       "      <td>0.0</td>\n",
       "      <td>922</td>\n",
       "      <td>0</td>\n",
       "      <td>...</td>\n",
       "      <td>294</td>\n",
       "      <td>250</td>\n",
       "      <td>0</td>\n",
       "      <td>0</td>\n",
       "      <td>0</td>\n",
       "      <td>0</td>\n",
       "      <td>0</td>\n",
       "      <td>0</td>\n",
       "      <td>6</td>\n",
       "      <td>2010</td>\n",
       "    </tr>\n",
       "    <tr>\n",
       "      <th>1067</th>\n",
       "      <td>60</td>\n",
       "      <td>59.0</td>\n",
       "      <td>7837</td>\n",
       "      <td>6</td>\n",
       "      <td>7</td>\n",
       "      <td>1993</td>\n",
       "      <td>1994</td>\n",
       "      <td>0.0</td>\n",
       "      <td>0</td>\n",
       "      <td>0</td>\n",
       "      <td>...</td>\n",
       "      <td>380</td>\n",
       "      <td>0</td>\n",
       "      <td>40</td>\n",
       "      <td>0</td>\n",
       "      <td>0</td>\n",
       "      <td>0</td>\n",
       "      <td>0</td>\n",
       "      <td>0</td>\n",
       "      <td>5</td>\n",
       "      <td>2009</td>\n",
       "    </tr>\n",
       "    <tr>\n",
       "      <th>639</th>\n",
       "      <td>30</td>\n",
       "      <td>67.0</td>\n",
       "      <td>8777</td>\n",
       "      <td>5</td>\n",
       "      <td>7</td>\n",
       "      <td>1910</td>\n",
       "      <td>1950</td>\n",
       "      <td>0.0</td>\n",
       "      <td>0</td>\n",
       "      <td>0</td>\n",
       "      <td>...</td>\n",
       "      <td>0</td>\n",
       "      <td>328</td>\n",
       "      <td>0</td>\n",
       "      <td>164</td>\n",
       "      <td>0</td>\n",
       "      <td>0</td>\n",
       "      <td>0</td>\n",
       "      <td>0</td>\n",
       "      <td>5</td>\n",
       "      <td>2008</td>\n",
       "    </tr>\n",
       "    <tr>\n",
       "      <th>800</th>\n",
       "      <td>50</td>\n",
       "      <td>60.0</td>\n",
       "      <td>7200</td>\n",
       "      <td>5</td>\n",
       "      <td>7</td>\n",
       "      <td>1937</td>\n",
       "      <td>1950</td>\n",
       "      <td>252.0</td>\n",
       "      <td>569</td>\n",
       "      <td>0</td>\n",
       "      <td>...</td>\n",
       "      <td>240</td>\n",
       "      <td>0</td>\n",
       "      <td>0</td>\n",
       "      <td>264</td>\n",
       "      <td>0</td>\n",
       "      <td>0</td>\n",
       "      <td>0</td>\n",
       "      <td>0</td>\n",
       "      <td>6</td>\n",
       "      <td>2007</td>\n",
       "    </tr>\n",
       "    <tr>\n",
       "      <th>381</th>\n",
       "      <td>50</td>\n",
       "      <td>50.0</td>\n",
       "      <td>5000</td>\n",
       "      <td>5</td>\n",
       "      <td>6</td>\n",
       "      <td>1924</td>\n",
       "      <td>1950</td>\n",
       "      <td>0.0</td>\n",
       "      <td>218</td>\n",
       "      <td>0</td>\n",
       "      <td>...</td>\n",
       "      <td>308</td>\n",
       "      <td>0</td>\n",
       "      <td>0</td>\n",
       "      <td>242</td>\n",
       "      <td>0</td>\n",
       "      <td>0</td>\n",
       "      <td>0</td>\n",
       "      <td>0</td>\n",
       "      <td>5</td>\n",
       "      <td>2010</td>\n",
       "    </tr>\n",
       "  </tbody>\n",
       "</table>\n",
       "<p>5 rows × 36 columns</p>\n",
       "</div>"
      ],
      "text/plain": [
       "      MSSubClass  LotFrontage  LotArea  OverallQual  OverallCond  YearBuilt  \\\n",
       "Id                                                                            \n",
       "255           20         70.0     8400            5            6       1957   \n",
       "1067          60         59.0     7837            6            7       1993   \n",
       "639           30         67.0     8777            5            7       1910   \n",
       "800           50         60.0     7200            5            7       1937   \n",
       "381           50         50.0     5000            5            6       1924   \n",
       "\n",
       "      YearRemodAdd  MasVnrArea  BsmtFinSF1  BsmtFinSF2  ...  GarageArea  \\\n",
       "Id                                                      ...               \n",
       "255           1957         0.0         922           0  ...         294   \n",
       "1067          1994         0.0           0           0  ...         380   \n",
       "639           1950         0.0           0           0  ...           0   \n",
       "800           1950       252.0         569           0  ...         240   \n",
       "381           1950         0.0         218           0  ...         308   \n",
       "\n",
       "      WoodDeckSF  OpenPorchSF  EnclosedPorch  3SsnPorch  ScreenPorch  \\\n",
       "Id                                                                     \n",
       "255          250            0              0          0            0   \n",
       "1067           0           40              0          0            0   \n",
       "639          328            0            164          0            0   \n",
       "800            0            0            264          0            0   \n",
       "381            0            0            242          0            0   \n",
       "\n",
       "      PoolArea  MiscVal  MoSold  YrSold  \n",
       "Id                                       \n",
       "255          0        0       6    2010  \n",
       "1067         0        0       5    2009  \n",
       "639          0        0       5    2008  \n",
       "800          0        0       6    2007  \n",
       "381          0        0       5    2010  \n",
       "\n",
       "[5 rows x 36 columns]"
      ]
     },
     "execution_count": 5,
     "metadata": {},
     "output_type": "execute_result"
    }
   ],
   "source": [
    "X_train.head()"
   ]
  },
  {
   "cell_type": "markdown",
   "id": "7831aa06",
   "metadata": {},
   "source": [
    "## Preliminary Investigation\n",
    "\n",
    "Performing a preliminary investigation into the dataset to be used to understand more about the different types of data and possible ways the missing values could be dealt with. "
   ]
  },
  {
   "cell_type": "code",
   "execution_count": 6,
   "id": "3c475c23",
   "metadata": {},
   "outputs": [
    {
     "name": "stdout",
     "output_type": "stream",
     "text": [
      "(1168, 36)\n",
      "LotFrontage    217\n",
      "MasVnrArea       6\n",
      "GarageYrBlt     64\n",
      "dtype: int64\n"
     ]
    }
   ],
   "source": [
    "# Obtaining shape of data\n",
    "print(X_train.shape)\n",
    "\n",
    "# Finding the number of missing values in each column of the training data\n",
    "missing_val_count_by_column = (X_train.isnull().sum())\n",
    "print(missing_val_count_by_column[missing_val_count_by_column > 0])"
   ]
  },
  {
   "cell_type": "markdown",
   "id": "207d9d78",
   "metadata": {},
   "source": [
    "## Observations\n",
    "\n",
    "From the above, we can conclude that there are totally 1168 rows and 36 columns in the training dataset. Out of the 36 columns, there are 3 columns containing missing data, namely: <br>\n",
    "1. LotFrontage <br>\n",
    "2. MasVnrArea <br>\n",
    "3. GarageYrBlt <br>\n",
    "\n",
    "Each of these three columns have 217, 6, and 64 missning data points respectively, thus brining the total number of missing entries to <b>276</b>. \n",
    "\n",
    "The LotFrontage column has the greatest number of missing values, however it is only missing less than 20% of its entries. Hence, it can be said that removing this column is unlikely to yield any good results as there may be valuable relationships we may remove as well. However, for the sake of this exercise, we will perform a comparison of MAE scores obtained before and after dropping the said columns. "
   ]
  },
  {
   "cell_type": "markdown",
   "id": "e126ce30",
   "metadata": {},
   "source": [
    "## Imputation\n"
   ]
  },
  {
   "cell_type": "code",
   "execution_count": 7,
   "id": "95aa6ebf",
   "metadata": {},
   "outputs": [],
   "source": [
    "# Function for comparing different approaches\n",
    "def scoreDat(X_train, X_valid, y_train, y_valid):\n",
    "    model = RandomForestRegressor(n_estimators=100, random_state=0)\n",
    "    model.fit(X_train, y_train)\n",
    "    preds = model.predict(X_valid)\n",
    "    return mean_absolute_error(y_valid, preds)"
   ]
  },
  {
   "cell_type": "code",
   "execution_count": 8,
   "id": "63e0f925",
   "metadata": {},
   "outputs": [],
   "source": [
    "# Imputation\n",
    "myImputer = SimpleImputer()\n",
    "imputed_xTrain = pd.DataFrame(myImputer.fit_transform(X_train))\n",
    "imputed_xValid = pd.DataFrame(myImputer.transform(X_valid))\n",
    "\n",
    "# Imputation removed column names; put them back\n",
    "imputed_xTrain.columns = X_train.columns\n",
    "imputed_xValid.columns = X_valid.columns"
   ]
  },
  {
   "cell_type": "code",
   "execution_count": 9,
   "id": "2afdc861",
   "metadata": {},
   "outputs": [
    {
     "name": "stdout",
     "output_type": "stream",
     "text": [
      "MAE (Imputation):\n",
      "18237.925182648403\n"
     ]
    }
   ],
   "source": [
    "print(\"MAE (Imputation):\")\n",
    "print(scoreDat(imputed_xTrain, imputed_xValid, y_train, y_valid))"
   ]
  },
  {
   "cell_type": "markdown",
   "id": "740306eb",
   "metadata": {},
   "source": [
    "## Dropping Columns with Missing Values"
   ]
  },
  {
   "cell_type": "code",
   "execution_count": 10,
   "id": "ea3929cd",
   "metadata": {},
   "outputs": [],
   "source": [
    "# Get names of columns with missing values\n",
    "missingValCols = [col for col in X_train.columns if X_train[col].isnull().any()]\n",
    "\n",
    "# Drop columns in training and validation data\n",
    "reduced_xTrain = X_train.drop(missingValCols, axis = 1)\n",
    "reduced_xValid = X_valid.drop(missingValCols, axis = 1)"
   ]
  },
  {
   "cell_type": "code",
   "execution_count": 11,
   "id": "ecd447f5",
   "metadata": {},
   "outputs": [
    {
     "name": "stdout",
     "output_type": "stream",
     "text": [
      "MAE (Drop columns with missing values):\n",
      "18023.26128995434\n"
     ]
    }
   ],
   "source": [
    "print(\"MAE (Drop columns with missing values):\")\n",
    "print(scoreDat(reduced_xTrain, reduced_xValid, y_train, y_valid))"
   ]
  },
  {
   "cell_type": "markdown",
   "id": "91ee2f1d",
   "metadata": {},
   "source": [
    "## Observations\n",
    "\n",
    "It is expected that imputation perform better than dropping columns as there are not that many missing values in the training dataset. However, as per the MAE values obtained, this is not the case. This may be attributed to the noise in the dataset or the fact that this particular method of imputation is not well suited for this dataset. This could be improved by filling the missing values with zeros instead of the means, for instance. "
   ]
  },
  {
   "cell_type": "markdown",
   "id": "f99baaf3",
   "metadata": {},
   "source": [
    "## Generating Test Predictions"
   ]
  },
  {
   "cell_type": "code",
   "execution_count": 12,
   "id": "634848c1",
   "metadata": {},
   "outputs": [],
   "source": [
    "# Performing imputation\n",
    "finalImputer = SimpleImputer(strategy='median')\n",
    "final_xTrain = pd.DataFrame(finalImputer.fit_transform(X_train))\n",
    "final_xValid = pd.DataFrame(finalImputer.transform(X_valid))\n",
    "\n",
    "# Placing the imputation removed column names back\n",
    "final_xTrain.columns = X_train.columns\n",
    "final_xValid.columns = X_valid.columns"
   ]
  },
  {
   "cell_type": "markdown",
   "id": "1d7a7334",
   "metadata": {},
   "source": [
    "## Evaluating a Random Forest Model"
   ]
  },
  {
   "cell_type": "code",
   "execution_count": 13,
   "id": "cf6a7da6",
   "metadata": {},
   "outputs": [
    {
     "name": "stdout",
     "output_type": "stream",
     "text": [
      "MAE (Your approach):\n",
      "18123.418618721462\n"
     ]
    }
   ],
   "source": [
    "# Define and fit model\n",
    "model = RandomForestRegressor(n_estimators = 100, random_state = 42)\n",
    "model.fit(final_xTrain, y_train)\n",
    "\n",
    "# Get validation predictions and MAE\n",
    "predValid = model.predict(final_xValid)\n",
    "print(\"MAE (Your approach):\")\n",
    "print(mean_absolute_error(y_valid, predValid))"
   ]
  },
  {
   "cell_type": "markdown",
   "id": "88a7df12",
   "metadata": {},
   "source": [
    "## Working on the Test Data"
   ]
  },
  {
   "cell_type": "code",
   "execution_count": 14,
   "id": "f9d056b0",
   "metadata": {},
   "outputs": [],
   "source": [
    "# Preprocessing the test data\n",
    "final_xTest = pd.DataFrame(finalImputer.transform(X_test))"
   ]
  },
  {
   "cell_type": "code",
   "execution_count": 15,
   "id": "38398dce",
   "metadata": {},
   "outputs": [
    {
     "name": "stderr",
     "output_type": "stream",
     "text": [
      "/Users/aparna/opt/anaconda3/lib/python3.9/site-packages/sklearn/base.py:450: UserWarning: X does not have valid feature names, but RandomForestRegressor was fitted with feature names\n",
      "  warnings.warn(\n"
     ]
    }
   ],
   "source": [
    "# Obtaining test predictions\n",
    "testPred = model.predict(final_xTest)"
   ]
  },
  {
   "cell_type": "code",
   "execution_count": 16,
   "id": "b162fbe6",
   "metadata": {},
   "outputs": [],
   "source": [
    "# Saving test predictions to CSV\n",
    "output = pd.DataFrame({'Id': X_test.index, 'SalePrice': testPred})\n",
    "output.to_csv('submission.csv', index = False)"
   ]
  },
  {
   "cell_type": "markdown",
   "id": "ed8b0f57",
   "metadata": {},
   "source": [
    "## Areas of Improvement\n",
    "\n",
    "This was a premiliminary study into the Random Forest Regressor model. There are a number of other parameters that could have been used along with this model that may have provided better MAE scores. Other models like SVM and Linear Regression could have been used. As previously discussed, the missing values could have been replaced with zeros, the most frequently occurring value, or some other technique. "
   ]
  }
 ],
 "metadata": {
  "kernelspec": {
   "display_name": "Python 3 (ipykernel)",
   "language": "python",
   "name": "python3"
  },
  "language_info": {
   "codemirror_mode": {
    "name": "ipython",
    "version": 3
   },
   "file_extension": ".py",
   "mimetype": "text/x-python",
   "name": "python",
   "nbconvert_exporter": "python",
   "pygments_lexer": "ipython3",
   "version": "3.9.12"
  }
 },
 "nbformat": 4,
 "nbformat_minor": 5
}
