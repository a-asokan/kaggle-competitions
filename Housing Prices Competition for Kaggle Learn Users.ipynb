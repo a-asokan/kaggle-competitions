{
 "cells": [
  {
   "cell_type": "markdown",
   "id": "975422a4",
   "metadata": {},
   "source": [
    "# Kaggle: Intermediate Machine Learning\n",
    "\n",
    "This notebook is an exercise in the [Intermediate Machine Learning](https://www.kaggle.com/learn/intermediate-machine-learning) course. The tutorial can be referenced [here](https://www.kaggle.com/code/alexisbcook/introduction/tutorial). The aim of this notebook is to provide a preliminary analysis into a Random Forest Regressor for the [Housing Prices Competition on Kaggle](https://www.kaggle.com/competitions/home-data-for-ml-course/overview).\n",
    "\n",
    "## Set Up\n",
    "\n",
    "The below cell sets up the environment and adds the necessary datasets into the working directory. "
   ]
  },
  {
   "cell_type": "code",
   "execution_count": 1,
   "id": "e02e1970",
   "metadata": {},
   "outputs": [],
   "source": [
    "import pandas as pd\n",
    "from sklearn.model_selection import train_test_split\n",
    "from sklearn.ensemble import RandomForestRegressor\n",
    "from sklearn.metrics import mean_absolute_error"
   ]
  },
  {
   "cell_type": "code",
   "execution_count": 2,
   "id": "313b1367",
   "metadata": {},
   "outputs": [],
   "source": [
    "# Read the data\n",
    "xTrainOg = pd.read_csv('home-data-for-ml-course/train.csv', index_col = 'Id')\n",
    "xTestOg = pd.read_csv('home-data-for-ml-course/test.csv', index_col = 'Id')"
   ]
  },
  {
   "cell_type": "markdown",
   "id": "488e0dee",
   "metadata": {},
   "source": [
    "## Obtaining the target and predictors \n",
    "\n",
    "A validation set is then obtained from the training set using the industry standard 80/20 split. "
   ]
  },
  {
   "cell_type": "code",
   "execution_count": 4,
   "id": "ba83888b",
   "metadata": {},
   "outputs": [],
   "source": [
    "y = xTrainOg.SalePrice\n",
    "features = ['LotArea', 'YearBuilt', '1stFlrSF', '2ndFlrSF', 'FullBath', 'BedroomAbvGr', 'TotRmsAbvGrd']\n",
    "X = xTrainOg[features].copy()\n",
    "xTest = xTestOg[features].copy()\n",
    "\n",
    "# Break off validation set from training data\n",
    "X_train, X_valid, y_train, y_valid = train_test_split(X, y, train_size = 0.8, test_size = 0.2, random_state = 42)"
   ]
  },
  {
   "cell_type": "markdown",
   "id": "47d6ef81",
   "metadata": {},
   "source": [
    "Examining the obtained:"
   ]
  },
  {
   "cell_type": "code",
   "execution_count": 5,
   "id": "72eee3b9",
   "metadata": {},
   "outputs": [
    {
     "data": {
      "text/html": [
       "<div>\n",
       "<style scoped>\n",
       "    .dataframe tbody tr th:only-of-type {\n",
       "        vertical-align: middle;\n",
       "    }\n",
       "\n",
       "    .dataframe tbody tr th {\n",
       "        vertical-align: top;\n",
       "    }\n",
       "\n",
       "    .dataframe thead th {\n",
       "        text-align: right;\n",
       "    }\n",
       "</style>\n",
       "<table border=\"1\" class=\"dataframe\">\n",
       "  <thead>\n",
       "    <tr style=\"text-align: right;\">\n",
       "      <th></th>\n",
       "      <th>LotArea</th>\n",
       "      <th>YearBuilt</th>\n",
       "      <th>1stFlrSF</th>\n",
       "      <th>2ndFlrSF</th>\n",
       "      <th>FullBath</th>\n",
       "      <th>BedroomAbvGr</th>\n",
       "      <th>TotRmsAbvGrd</th>\n",
       "    </tr>\n",
       "    <tr>\n",
       "      <th>Id</th>\n",
       "      <th></th>\n",
       "      <th></th>\n",
       "      <th></th>\n",
       "      <th></th>\n",
       "      <th></th>\n",
       "      <th></th>\n",
       "      <th></th>\n",
       "    </tr>\n",
       "  </thead>\n",
       "  <tbody>\n",
       "    <tr>\n",
       "      <th>255</th>\n",
       "      <td>8400</td>\n",
       "      <td>1957</td>\n",
       "      <td>1314</td>\n",
       "      <td>0</td>\n",
       "      <td>1</td>\n",
       "      <td>3</td>\n",
       "      <td>5</td>\n",
       "    </tr>\n",
       "    <tr>\n",
       "      <th>1067</th>\n",
       "      <td>7837</td>\n",
       "      <td>1993</td>\n",
       "      <td>799</td>\n",
       "      <td>772</td>\n",
       "      <td>2</td>\n",
       "      <td>3</td>\n",
       "      <td>7</td>\n",
       "    </tr>\n",
       "    <tr>\n",
       "      <th>639</th>\n",
       "      <td>8777</td>\n",
       "      <td>1910</td>\n",
       "      <td>796</td>\n",
       "      <td>0</td>\n",
       "      <td>1</td>\n",
       "      <td>2</td>\n",
       "      <td>4</td>\n",
       "    </tr>\n",
       "    <tr>\n",
       "      <th>800</th>\n",
       "      <td>7200</td>\n",
       "      <td>1937</td>\n",
       "      <td>981</td>\n",
       "      <td>787</td>\n",
       "      <td>1</td>\n",
       "      <td>3</td>\n",
       "      <td>7</td>\n",
       "    </tr>\n",
       "    <tr>\n",
       "      <th>381</th>\n",
       "      <td>5000</td>\n",
       "      <td>1924</td>\n",
       "      <td>1026</td>\n",
       "      <td>665</td>\n",
       "      <td>2</td>\n",
       "      <td>3</td>\n",
       "      <td>6</td>\n",
       "    </tr>\n",
       "  </tbody>\n",
       "</table>\n",
       "</div>"
      ],
      "text/plain": [
       "      LotArea  YearBuilt  1stFlrSF  2ndFlrSF  FullBath  BedroomAbvGr  \\\n",
       "Id                                                                     \n",
       "255      8400       1957      1314         0         1             3   \n",
       "1067     7837       1993       799       772         2             3   \n",
       "639      8777       1910       796         0         1             2   \n",
       "800      7200       1937       981       787         1             3   \n",
       "381      5000       1924      1026       665         2             3   \n",
       "\n",
       "      TotRmsAbvGrd  \n",
       "Id                  \n",
       "255              5  \n",
       "1067             7  \n",
       "639              4  \n",
       "800              7  \n",
       "381              6  "
      ]
     },
     "execution_count": 5,
     "metadata": {},
     "output_type": "execute_result"
    }
   ],
   "source": [
    "X_train.head()"
   ]
  },
  {
   "cell_type": "markdown",
   "id": "7831aa06",
   "metadata": {},
   "source": [
    "## Defining the models to be studied\n",
    "\n",
    "Random Forest Regressor models are studied in this section of the notebook. A random forest model is a meta estimator fitting a number of decision trees on different dataset sub-samples. This technique uses avergaes in order to improve the accuracy obtained and to control over-fitting."
   ]
  },
  {
   "cell_type": "code",
   "execution_count": 6,
   "id": "3c475c23",
   "metadata": {},
   "outputs": [],
   "source": [
    "model_1 = RandomForestRegressor(n_estimators = 50, random_state = 42)\n",
    "model_2 = RandomForestRegressor(n_estimators = 100, random_state = 42)\n",
    "model_3 = RandomForestRegressor(n_estimators = 100, criterion = 'absolute_error', random_state = 42)\n",
    "model_4 = RandomForestRegressor(n_estimators = 200, min_samples_split = 20, random_state = 42)\n",
    "model_5 = RandomForestRegressor(n_estimators = 100, max_depth = 7, random_state = 42)\n",
    "\n",
    "models = [model_1, model_2, model_3, model_4, model_5]"
   ]
  },
  {
   "cell_type": "markdown",
   "id": "e126ce30",
   "metadata": {},
   "source": [
    "## Scoring\n",
    "\n",
    "The best model will provide the least mean absolute error. A function was developed in order to calculate the same for each model designed. "
   ]
  },
  {
   "cell_type": "code",
   "execution_count": 10,
   "id": "95aa6ebf",
   "metadata": {},
   "outputs": [],
   "source": [
    "# Function for comparing different models\n",
    "def scoreMod(model, xTrain = X_train, xValid = X_valid, yTrain = y_train, yValid = y_valid):\n",
    "    model.fit(xTrain, yTrain)\n",
    "    predictions = model.predict(xValid)\n",
    "    return mean_absolute_error(yValid, predictions)"
   ]
  },
  {
   "cell_type": "code",
   "execution_count": 11,
   "id": "63e0f925",
   "metadata": {},
   "outputs": [
    {
     "name": "stdout",
     "output_type": "stream",
     "text": [
      "Model 1 MAE: 22411\n",
      "Model 2 MAE: 22537\n",
      "Model 3 MAE: 22569\n",
      "Model 4 MAE: 22719\n",
      "Model 5 MAE: 23044\n"
     ]
    }
   ],
   "source": [
    "# Obtaining scores for each model\n",
    "for i in range(0, len(models)):\n",
    "    mae = scoreMod(models[i])\n",
    "    print(\"Model %d MAE: %d\" % (i+1, mae))"
   ]
  },
  {
   "cell_type": "markdown",
   "id": "91ee2f1d",
   "metadata": {},
   "source": [
    "Based on the obtained MAE values for each model, the best model is found to be model 1. \n",
    "\n",
    "## Generating Predictions\n",
    "\n",
    "The predictions are generated for the test dataset and stored in a CSV file in order to submit the obtained to the Kaggle Competition."
   ]
  },
  {
   "cell_type": "code",
   "execution_count": 13,
   "id": "e7ea8505",
   "metadata": {},
   "outputs": [
    {
     "data": {
      "text/plain": [
       "RandomForestRegressor(n_estimators=50, random_state=42)"
      ]
     },
     "execution_count": 13,
     "metadata": {},
     "output_type": "execute_result"
    }
   ],
   "source": [
    "# Storing the best model\n",
    "bestMod = model_1\n",
    "\n",
    "# Fit the model to the training data\n",
    "bestMod.fit(X, y)"
   ]
  },
  {
   "cell_type": "code",
   "execution_count": 16,
   "id": "74395325",
   "metadata": {},
   "outputs": [],
   "source": [
    "# Generate test predictions\n",
    "testPred = bestMod.predict(xTest)"
   ]
  },
  {
   "cell_type": "code",
   "execution_count": 17,
   "id": "6a157c78",
   "metadata": {},
   "outputs": [],
   "source": [
    "# Save predictions in format used for competition scoring\n",
    "output = pd.DataFrame({'Id': xTest.index, 'SalePrice': testPred})\n",
    "output.to_csv('submission.csv', index=False)"
   ]
  },
  {
   "cell_type": "markdown",
   "id": "ed8b0f57",
   "metadata": {},
   "source": [
    "## Areas of Improvement\n",
    "\n",
    "This was a premiliminary study into the Random Forest Regressor model. There are a number of other parameters that could have been used along with this model that may have provided better MAE scores. Other models like SVM and Linear Regression could have been used. Techniques like outlier removal, reducing data skewness, and stacking various models together may have provided more favorable results as well. "
   ]
  }
 ],
 "metadata": {
  "kernelspec": {
   "display_name": "Python 3 (ipykernel)",
   "language": "python",
   "name": "python3"
  },
  "language_info": {
   "codemirror_mode": {
    "name": "ipython",
    "version": 3
   },
   "file_extension": ".py",
   "mimetype": "text/x-python",
   "name": "python",
   "nbconvert_exporter": "python",
   "pygments_lexer": "ipython3",
   "version": "3.9.12"
  }
 },
 "nbformat": 4,
 "nbformat_minor": 5
}
